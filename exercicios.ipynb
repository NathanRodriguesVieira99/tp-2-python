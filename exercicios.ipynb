{
 "cells": [
  {
   "cell_type": "markdown",
   "id": "e322491a",
   "metadata": {},
   "source": [
    "# Exercício 1"
   ]
  },
  {
   "cell_type": "code",
   "execution_count": 10,
   "id": "2133394f",
   "metadata": {},
   "outputs": [
    {
     "name": "stdout",
     "output_type": "stream",
     "text": [
      "Alerta: verificar origem da transferência\n",
      "Alerta: confirmar com o cliente\n",
      "Transação normal\n"
     ]
    }
   ],
   "source": [
    "ANO_2_DIGITOS = 5\n",
    "\n",
    "def analisar_transacao(valor, tipo):\n",
    "    if valor > 1000 * ANO_2_DIGITOS and tipo == \"transferência\":\n",
    "        print(\"Alerta: verificar origem da transferência\")\n",
    "    elif tipo == \"saque\":\n",
    "        print(\"Alerta: confirmar com o cliente\")\n",
    "    else:\n",
    "        print(\"Transação normal\")\n",
    "\n",
    "analisar_transacao(8000, \"transferência\")\n",
    "analisar_transacao(2000, \"saque\")\n",
    "analisar_transacao(1000, \"pagamento\")"
   ]
  },
  {
   "cell_type": "markdown",
   "id": "24cb75dc",
   "metadata": {},
   "source": [
    "# Exercício 3"
   ]
  },
  {
   "cell_type": "code",
   "execution_count": 11,
   "id": "149ae9cb",
   "metadata": {},
   "outputs": [
    {
     "name": "stdout",
     "output_type": "stream",
     "text": [
      "Risco de atraso\n"
     ]
    }
   ],
   "source": [
    "def avaliar_risco(distancia_km: int, clima: str, zona_entrega: str) -> str:\n",
    "    if distancia_km > 300 and clima == 'chuva' or zona_entrega == 'rural':\n",
    "        return 'Risco de atraso'\n",
    "    else:\n",
    "        return 'Entrega dentro do previsto'\n",
    "\n",
    "print(avaliar_risco(300, 'chuva', 'rural'))"
   ]
  },
  {
   "cell_type": "markdown",
   "id": "44a3e4ca",
   "metadata": {},
   "source": [
    "# Exercício 4"
   ]
  },
  {
   "cell_type": "code",
   "execution_count": 12,
   "id": "e8c8f86c",
   "metadata": {},
   "outputs": [
    {
     "name": "stdout",
     "output_type": "stream",
     "text": [
      "Ajustar temperatura da esteira\n"
     ]
    }
   ],
   "source": [
    "# F1 -> falha de inicialização do motor\n",
    "# F2 -> superaquecimento do painel elétrico\n",
    "# F3 -> oscilação na temperatura da esteira\n",
    "# F4 -> erro de leitura dos sensores ópticos\n",
    "# Tempertura pode variar entre 20 e 80 graus\n",
    "\n",
    "def verificar_falhas_linha_de_montagem(codigo: str, temperatura: int) -> str:\n",
    "    if codigo == 'F1' and temperatura < 40:\n",
    "        return 'Reiniciar Máquina'\n",
    "    elif codigo == 'F2' and temperatura > 60:\n",
    "        return 'Verificar conexão elétrica e sistema de refrigeração'\n",
    "    elif codigo == 'F3' and temperatura > 45 or temperatura < 55:\n",
    "        return 'Ajustar temperatura da esteira'\n",
    "    elif codigo == 'F4':\n",
    "        return 'Realizar diagnóstico dos sensores ópticos'\n",
    "    else:\n",
    "        return 'Falha não reconhecida pelo sistema de alarme. Acionar engenheiro responsável'\n",
    "\n",
    "print(verificar_falhas_linha_de_montagem('F2', 30))"
   ]
  },
  {
   "cell_type": "markdown",
   "id": "5e8d1fea",
   "metadata": {},
   "source": [
    "# Exercício 5"
   ]
  },
  {
   "cell_type": "code",
   "execution_count": 13,
   "id": "4f6803cb",
   "metadata": {},
   "outputs": [
    {
     "name": "stdout",
     "output_type": "stream",
     "text": [
      "[8, 10, 9]\n"
     ]
    }
   ],
   "source": [
    "notas_avaliacao = [5, 8, 10, 6, 9, 4]\n",
    "\n",
    "def avaliar_notas(notas):\n",
    "    return [nota for nota in notas if nota >= 7]\n",
    "\n",
    "print(avaliar_notas(notas_avaliacao))"
   ]
  },
  {
   "cell_type": "markdown",
   "id": "97f7071b",
   "metadata": {},
   "source": [
    "# Exercício 6"
   ]
  },
  {
   "cell_type": "code",
   "execution_count": 14,
   "id": "cb75883a",
   "metadata": {},
   "outputs": [
    {
     "name": "stdout",
     "output_type": "stream",
     "text": [
      "[0, 5, 10, 15, 20, 25, 30, 35, 40, 45, 50]\n"
     ]
    }
   ],
   "source": [
    "valores = []\n",
    "valor_comissao = 0\n",
    "\n",
    "while valor_comissao <= 50:\n",
    "    valores.append(valor_comissao)\n",
    "    valor_comissao += 5\n",
    "\n",
    "print(valores)"
   ]
  },
  {
   "cell_type": "markdown",
   "id": "c06fd101",
   "metadata": {},
   "source": [
    "# Exercício 7"
   ]
  },
  {
   "cell_type": "code",
   "execution_count": 15,
   "id": "9fe639c8",
   "metadata": {},
   "outputs": [
    {
     "name": "stdout",
     "output_type": "stream",
     "text": [
      "Tentando conectar...\n",
      "Tentando conectar...\n",
      "Tentando conectar...\n",
      "Conexão interrompida após limite de tentativas\n"
     ]
    }
   ],
   "source": [
    "tentativas_conexao = [False, False, False, True, True]\n",
    "tentativas = 0\n",
    "limite_tentativas = 3\n",
    "\n",
    "indice = 0\n",
    "while tentativas < limite_tentativas and indice < len(tentativas_conexao):\n",
    "    print(\"Tentando conectar...\")\n",
    "    if tentativas_conexao[indice]:\n",
    "        print(\"Conexão realizada com sucesso!\")\n",
    "        break\n",
    "    tentativas += 1\n",
    "    indice += 1\n",
    "else:\n",
    "    print(\"Conexão interrompida após limite de tentativas\")"
   ]
  },
  {
   "cell_type": "markdown",
   "id": "d0757d18",
   "metadata": {},
   "source": [
    "# Exercício 8"
   ]
  },
  {
   "cell_type": "code",
   "execution_count": 16,
   "id": "7d17090a",
   "metadata": {},
   "outputs": [
    {
     "name": "stdout",
     "output_type": "stream",
     "text": [
      "Fila final (Cenário A):  ['P999', 'P123', 'P456', 'P789']\n",
      "Fila final (Cenário B):  ['P123', 'P999', 'P789']\n",
      "Pedido a substituir não está na lista. Nenhuma alteração feita.\n",
      "Fila final (Cenário C): ['P123', 'P888', 'P789']\n"
     ]
    }
   ],
   "source": [
    "# Cenário A\n",
    "pedidos = ['P123', 'P456', 'P789']\n",
    "pedido_a_substituir = 'P456'\n",
    "prioridade_urgente = True\n",
    "pedido_urgente = 'P999'\n",
    "\n",
    "if prioridade_urgente:\n",
    "    pedidos.insert(0, pedido_urgente)\n",
    "print('Fila final (Cenário A): ', pedidos)\n",
    "\n",
    "# Cenário B\n",
    "pedidos = ['P123', 'P456', 'P789']\n",
    "pedido_a_substituir = 'P456'\n",
    "prioridade_urgente = False\n",
    "pedido_urgente = 'P999'\n",
    "\n",
    "if prioridade_urgente:\n",
    "    pedidos.insert(0, pedido_urgente)\n",
    "else:\n",
    "    if pedido_a_substituir in pedidos:\n",
    "        index = pedidos.index(pedido_a_substituir)\n",
    "        pedidos[index] = pedido_urgente\n",
    "print('Fila final (Cenário B): ', pedidos)\n",
    "\n",
    "# Cenário C\n",
    "pedidos = ['P123', 'P888', 'P789']\n",
    "pedido_a_substituir = 'P456'\n",
    "prioridade_urgente = False\n",
    "pedido_urgente = 'P999'\n",
    "\n",
    "if prioridade_urgente:\n",
    "    pedidos.insert(0, pedido_urgente)\n",
    "else:\n",
    "    if pedido_a_substituir in pedidos:\n",
    "        index = pedidos.index(pedido_a_substituir)\n",
    "        pedidos[index] = pedido_urgente\n",
    "    else:\n",
    "        print('Pedido a substituir não está na lista. Nenhuma alteração feita.')\n",
    "print('Fila final (Cenário C):', pedidos)"
   ]
  },
  {
   "cell_type": "markdown",
   "id": "bc10248d",
   "metadata": {},
   "source": [
    "# Exercício 9"
   ]
  },
  {
   "cell_type": "code",
   "execution_count": 17,
   "id": "2dd58c85",
   "metadata": {},
   "outputs": [
    {
     "name": "stdout",
     "output_type": "stream",
     "text": [
      "Estoque total:  ['banana', 'maçã', 'laranja', 'pera', 'laranja', 'banana', 'maçã', 'romã']\n",
      "pera: 1 unidade(s)\n",
      "laranja: 2 unidade(s)\n",
      "banana: 2 unidade(s)\n",
      "romã: 1 unidade(s)\n",
      "maçã: 2 unidade(s)\n",
      "None\n"
     ]
    }
   ],
   "source": [
    "produtos_a = ['banana', 'maçã']\n",
    "produtos_b = ['laranja', 'pera']\n",
    "produtos_c = ['laranja', 'banana', 'maçã', 'romã']\n",
    "\n",
    "def unificar_estoque(lista1, lista2, lista3):\n",
    "    estoque_total = lista1 + lista2 + lista3\n",
    "    print('Estoque total: ', estoque_total)\n",
    "\n",
    "    for produto in set(estoque_total):\n",
    "       print(f\"{produto}: {estoque_total.count(produto)} unidade(s)\")\n",
    "\n",
    "print(unificar_estoque(produtos_a, produtos_b, produtos_c)\n",
    "      )"
   ]
  },
  {
   "cell_type": "markdown",
   "id": "73cf1180",
   "metadata": {},
   "source": [
    "# Exercício 10"
   ]
  },
  {
   "cell_type": "code",
   "execution_count": 18,
   "id": "5d858cf6",
   "metadata": {},
   "outputs": [
    {
     "name": "stdout",
     "output_type": "stream",
     "text": [
      "Boleto: B001 | Vencimento: 2025-08-05 | Valor Original: R$ 500.00 | Dias em atraso: 7 | Valor Devido: R$ 570.00\n",
      "Boleto: B004 | Vencimento: 2025-08-01 | Valor Original: R$ 980.00 | Dias em atraso: 11 | Valor Devido: R$ 1195.60\n",
      "Total acumulado dos boletos vencidos: R$ 1765.60\n"
     ]
    }
   ],
   "source": [
    "data_atual = '2025-08-12'\n",
    "boletos = [\n",
    "    [\"B001\", 500.00, \"2025-08-05\"],\n",
    "    [\"B002\", 320.00, \"2025-08-12\"],\n",
    "    [\"B003\", 150.00, \"2025-08-15\"],\n",
    "    [\"B004\", 980.00, \"2025-08-01\"]\n",
    "]\n",
    "\n",
    "juros_diario = 0.02\n",
    "\n",
    "total_devido = 0.0\n",
    "for boleto in boletos:\n",
    "    codigo, valor, vencimento = boleto\n",
    "    if vencimento < data_atual:\n",
    "        from datetime import date\n",
    "        ano_v, mes_v, dia_v = map(int, vencimento.split(\"-\"))\n",
    "        ano_a, mes_a, dia_a = map(int, data_atual.split(\"-\"))\n",
    "        dias_atraso = (date(ano_a, mes_a, dia_a) -\n",
    "                       date(ano_v, mes_v, dia_v)).days\n",
    "        valor_devido = valor + (valor * juros_diario * dias_atraso)\n",
    "        total_devido += valor_devido\n",
    "        print(f\"Boleto: {codigo} | Vencimento: {vencimento} | Valor Original: R$ {valor:.2f} | Dias em atraso: {dias_atraso} | Valor Devido: R$ {valor_devido:.2f}\")\n",
    "print(f\"Total acumulado dos boletos vencidos: R$ {total_devido:.2f}\")"
   ]
  },
  {
   "cell_type": "markdown",
   "id": "7ecc50c9",
   "metadata": {},
   "source": [
    "# Exercício 11"
   ]
  },
  {
   "cell_type": "code",
   "execution_count": 19,
   "id": "398644e1",
   "metadata": {},
   "outputs": [
    {
     "name": "stdout",
     "output_type": "stream",
     "text": [
      "PytHoN eh melhOr q JAvascripT\n"
     ]
    }
   ],
   "source": [
    "mensagem_encriptada = \"SbwKrQ eh phokRu q MDydvfulsW\"\n",
    "\n",
    "chave = 0\n",
    "for c in mensagem_encriptada:\n",
    "    if c == 'D' or c == 'd' or c == 'W':\n",
    "        chave += 1\n",
    "\n",
    "mensagem_decodificada = \"\"\n",
    "palavra = \"\"\n",
    "for i in range(len(mensagem_encriptada)):\n",
    "    letra = mensagem_encriptada[i]\n",
    "    if letra != \" \":\n",
    "        palavra += letra\n",
    "    else:\n",
    "        if len(palavra) > 3:\n",
    "            nova_palavra = \"\"\n",
    "            for l in palavra:\n",
    "                if l.isalpha():\n",
    "                    if l.isupper():\n",
    "                        nova_letra = chr((ord(l) - ord('A') - chave) % 26 + ord('A'))\n",
    "                    else:\n",
    "                        nova_letra = chr((ord(l) - ord('a') - chave) % 26 + ord('a'))\n",
    "                    nova_palavra += nova_letra\n",
    "                else:\n",
    "                    nova_palavra += l\n",
    "            mensagem_decodificada += nova_palavra + \" \"\n",
    "        else:\n",
    "            mensagem_decodificada += palavra + \" \"\n",
    "        palavra = \"\"\n",
    "\n",
    "if len(palavra) > 3:\n",
    "    nova_palavra = \"\"\n",
    "    for l in palavra:\n",
    "        if l.isalpha():\n",
    "            if l.isupper():\n",
    "                nova_letra = chr((ord(l) - ord('A') - chave) % 26 + ord('A'))\n",
    "            else:\n",
    "                nova_letra = chr((ord(l) - ord('a') - chave) % 26 + ord('a'))\n",
    "            nova_palavra += nova_letra\n",
    "        else:\n",
    "            nova_palavra += l\n",
    "    mensagem_decodificada += nova_palavra\n",
    "else:\n",
    "    mensagem_decodificada += palavra\n",
    "\n",
    "print(mensagem_decodificada)"
   ]
  },
  {
   "cell_type": "markdown",
   "id": "a8075fcf",
   "metadata": {},
   "source": [
    "# Exercício 12"
   ]
  },
  {
   "cell_type": "code",
   "execution_count": 20,
   "id": "33f2091c",
   "metadata": {},
   "outputs": [
    {
     "name": "stdout",
     "output_type": "stream",
     "text": [
      "Sensor 2 acima do limite\n",
      "Sensor 4 acima do limite\n"
     ]
    }
   ],
   "source": [
    "sensor_temperaturas = [28, 31, 27, 35, 29]\n",
    "\n",
    "for i in range(len(sensor_temperaturas)):\n",
    "    if sensor_temperaturas[i] > 30:\n",
    "        print(f\"Sensor {i+1} acima do limite\")"
   ]
  }
 ],
 "metadata": {
  "kernelspec": {
   "display_name": "Python 3",
   "language": "python",
   "name": "python3"
  },
  "language_info": {
   "codemirror_mode": {
    "name": "ipython",
    "version": 3
   },
   "file_extension": ".py",
   "mimetype": "text/x-python",
   "name": "python",
   "nbconvert_exporter": "python",
   "pygments_lexer": "ipython3",
   "version": "3.13.2"
  }
 },
 "nbformat": 4,
 "nbformat_minor": 5
}
